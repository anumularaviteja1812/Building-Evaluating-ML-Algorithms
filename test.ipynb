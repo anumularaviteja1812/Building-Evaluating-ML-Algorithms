{
 "cells": [
  {
   "cell_type": "code",
   "execution_count": 1,
   "id": "0aa3b555-d94b-4e6f-891b-672442172bc2",
   "metadata": {},
   "outputs": [],
   "source": [
    "import numpy as np\n",
    "import pandas as pd\n",
    "import matplotlib.pyplot as plt\n",
    "from sklearn.model_selection import train_test_split, GridSearchCV, RandomizedSearchCV,KFold\n",
    "from sklearn.pipeline import Pipeline\n",
    "from sklearn.preprocessing import OneHotEncoder, StandardScaler, FunctionTransformer\n",
    "from sklearn.impute import SimpleImputer\n",
    "from sklearn.compose import ColumnTransformer\n",
    "from sklearn.linear_model import LinearRegression, Lasso, LogisticRegression\n",
    "from sklearn.metrics import mean_squared_error\n",
    "from sklearn.model_selection import cross_val_score\n",
    "from sklearn.preprocessing import PolynomialFeatures\n",
    "from sklearn.metrics import classification_report, accuracy_score\n",
    "import pickle\n",
    "import warnings\n",
    "from sklearn.metrics import r2_score\n",
    "from sklearn.model_selection import cross_val_score\n",
    "import scipy.stats as stats"
   ]
  },
  {
   "cell_type": "code",
   "execution_count": 2,
   "id": "bc732b29-98d6-4d98-ac37-28f32ff917dc",
   "metadata": {
    "tags": []
   },
   "outputs": [],
   "source": [
    "warnings.filterwarnings('ignore')"
   ]
  },
  {
   "cell_type": "code",
   "execution_count": 3,
   "id": "8846699a-576c-4b38-89dc-8fe6347c1b9c",
   "metadata": {
    "tags": []
   },
   "outputs": [],
   "source": [
    "def Day_of_week(X):\n",
    "    return pd.to_datetime(X['Date']).dt.day_name().values.reshape(-1,1)\n",
    "\n",
    "def Timeslot(X):\n",
    "    def time_slot(time_str):\n",
    "        hour = int(time_str.split(':')[0])\n",
    "        if 10 <= hour < 12:\n",
    "            return 'Morning'\n",
    "        elif 12 <= hour < 17:\n",
    "            return 'Afternoon'\n",
    "        elif 17 <= hour < 19:\n",
    "            return 'Evening'\n",
    "        else:\n",
    "            return 'Night'\n",
    "    \n",
    "    return pd.Series(X['Time']).apply(time_slot).values.reshape(-1,1)"
   ]
  },
  {
   "cell_type": "markdown",
   "id": "c62e5c53-f4fe-4249-9f17-f4f2005e17e3",
   "metadata": {},
   "source": [
    "### Import models, X_test and t_test files for all models"
   ]
  },
  {
   "cell_type": "code",
   "execution_count": 4,
   "id": "c27c888b-fdce-4337-9cd3-119caa93eadb",
   "metadata": {
    "tags": []
   },
   "outputs": [],
   "source": [
    "# Load X_test and y_test using pickle\n",
    "\n",
    "with open('X1_test.pkl', 'rb') as f:\n",
    "    X1_test= pickle.load(f)\n",
    "\n",
    "with open('t1_test.pkl', 'rb') as f:\n",
    "    t1_test= pickle.load(f)\n",
    "\n",
    "with open('X2_test.pkl', 'rb') as f:\n",
    "    X2_test= pickle.load(f)\n",
    "\n",
    "with open('t2_test.pkl', 'rb') as f:\n",
    "    t2_test= pickle.load(f)\n",
    "    \n",
    "with open('X3_test.pkl', 'rb') as f:\n",
    "    X3_test= pickle.load(f)\n",
    "\n",
    "with open('t3_test.pkl', 'rb') as f:\n",
    "    t3_test= pickle.load(f)\n",
    "\n",
    "with open('X4_test.pkl', 'rb') as f:\n",
    "    X4_test= pickle.load(f)\n",
    "\n",
    "with open('t4_test.pkl', 'rb') as f:\n",
    "    t4_test= pickle.load(f)\n",
    "    \n",
    "with open('X5_test.pkl', 'rb') as f:\n",
    "    X5_test= pickle.load(f)\n",
    "\n",
    "with open('t5_test.pkl', 'rb') as f:\n",
    "    t5_test= pickle.load(f)\n",
    "    \n",
    "    \n",
    "with open('model1_lr.pkl', 'rb') as f:\n",
    "    model1_lr = pickle.load(f)\n",
    "with open('model1_lasso.pkl', 'rb') as f:\n",
    "    model1_lasso = pickle.load(f)\n",
    "with open('model2_lr.pkl', 'rb') as f:\n",
    "    model2_lr = pickle.load(f)\n",
    "with open('model2_lasso.pkl', 'rb') as f:\n",
    "    model2_lasso = pickle.load(f)\n",
    "with open('model3.pkl', 'rb') as f:\n",
    "    model3 = pickle.load(f)\n",
    "with open('model4.pkl', 'rb') as f:\n",
    "    model4 = pickle.load(f)\n",
    "with open('model5.pkl', 'rb') as f:\n",
    "    model5 = pickle.load(f)\n",
    "with open('model6.pkl', 'rb') as f:\n",
    "    model6 = pickle.load(f)"
   ]
  },
  {
   "cell_type": "markdown",
   "id": "4aea3801-b0d8-4a1a-a703-4e856bb1308e",
   "metadata": {},
   "source": [
    "### R2score with its confidence intervals for Multiple linear regression with and without Lasso for gross income and Unit price respectively"
   ]
  },
  {
   "cell_type": "code",
   "execution_count": 5,
   "id": "764947f3-c5d4-4612-9abb-630dd59c8b22",
   "metadata": {},
   "outputs": [],
   "source": [
    "y1_pred_lr = model1_lr.predict(X1_test)\n",
    "y1_pred_lasso = model1_lasso.predict(X1_test)\n",
    "y2_pred_lr = model2_lr.predict(X2_test)\n",
    "y2_pred_lasso = model2_lasso.predict(X2_test)\n",
    "y3_pred = model3.predict(X3_test)\n",
    "y4_pred = model4.predict(X4_test)"
   ]
  },
  {
   "cell_type": "code",
   "execution_count": 6,
   "id": "88331014-ecd5-4fbb-a483-7754b70afaab",
   "metadata": {
    "tags": []
   },
   "outputs": [],
   "source": [
    "def evaluate(X_test,t_test,y_pred, model,model_name):\n",
    "    ci=0.95\n",
    "    r2 = r2_score(t_test, y_pred)\n",
    "    print(f\"model name:\",model_name)\n",
    "    print(f\"R² on test set: {r2}\")\n",
    "    \n",
    "    n = len(t_test)  # number of observations\n",
    "    k = X_test.shape[1]  # number of predictors\n",
    "    se_r2 = np.sqrt((1 - r2**2) / (n - k - 1))\n",
    "    alpha = 1 - ci\n",
    "    z_score = stats.norm.ppf(1 - alpha / 2)\n",
    "    margin_of_error = z_score * se_r2\n",
    "    \n",
    "    lower_bound = r2 - margin_of_error\n",
    "    upper_bound = r2 + margin_of_error\n",
    "    print(\"95% confidence interval:\",[lower_bound,upper_bound])"
   ]
  },
  {
   "cell_type": "code",
   "execution_count": 7,
   "id": "ac1733a3-3d82-4a4a-8428-b39169aece7c",
   "metadata": {
    "tags": []
   },
   "outputs": [
    {
     "name": "stdout",
     "output_type": "stream",
     "text": [
      "model name: Linear regression to predict gross income\n",
      "R² on test set: 0.8911494702615879\n",
      "95% confidence interval: [0.8264656904440684, 0.9558332500791074]\n",
      "\n",
      "\n",
      "model name: Linear regression with lasso to predict gross income\n",
      "R² on test set: 0.8905189653373747\n",
      "95% confidence interval: [0.8256589339164472, 0.9553789967583023]\n",
      "\n",
      "\n",
      "model name: Linear regression to predict Unit price\n",
      "R² on test set: 0.7777872241367431\n",
      "95% confidence interval: [0.6877023885046276, 0.8678720597688585]\n",
      "\n",
      "\n",
      "model name: Linear regression with lasso to predict Unit price\n",
      "R² on test set: 0.7868333214220291\n",
      "95% confidence interval: [0.6983769809306214, 0.8752896619134368]\n",
      "\n",
      "\n"
     ]
    }
   ],
   "source": [
    "evaluate(X1_test,t1_test,y1_pred_lr, model1_lr, 'Linear regression to predict gross income')\n",
    "print('\\n')\n",
    "evaluate(X1_test,t1_test,y1_pred_lasso, model1_lasso, 'Linear regression with lasso to predict gross income')\n",
    "print('\\n')\n",
    "evaluate(X2_test,t2_test,y2_pred_lr, model2_lr, 'Linear regression to predict Unit price')\n",
    "print('\\n')\n",
    "evaluate(X2_test,t2_test,y2_pred_lasso, model2_lasso, 'Linear regression with lasso to predict Unit price')\n",
    "print('\\n')"
   ]
  },
  {
   "cell_type": "markdown",
   "id": "85c0a7a7-9b6b-48f2-8c3b-3216d0d9f1dc",
   "metadata": {},
   "source": [
    "### Accuracy and its confidence intervals for classifying day of purchase"
   ]
  },
  {
   "cell_type": "code",
   "execution_count": 8,
   "id": "57aef53b-d650-4ac1-8dc8-3acf8669fc3e",
   "metadata": {},
   "outputs": [],
   "source": [
    "y5_pred = model5.predict(X5_test)\n",
    "y6_pred = model6.predict(X5_test)"
   ]
  },
  {
   "cell_type": "code",
   "execution_count": 9,
   "id": "a5cfc1b4-c5ea-40ae-b369-1b20b336d40f",
   "metadata": {
    "tags": []
   },
   "outputs": [],
   "source": [
    "def accurate(X_test,t_test,y_pred, model,model_name):\n",
    "    ci=0.95\n",
    "    accuracy = accuracy_score(t_test, y_pred)\n",
    "    print(f\"model name:\",model_name)\n",
    "    print(f\"Accuracy on test set: {accuracy}\")\n",
    "    \n",
    "    n = len(t_test)  # number of observations\n",
    "    se_acc = np.sqrt((accuracy*(1-accuracy))/n)\n",
    "    alpha = 1 - ci\n",
    "    z_score = stats.norm.ppf(1 - alpha / 2)\n",
    "    margin_of_error = z_score * se_acc\n",
    "    \n",
    "    lower_bound = max(0, accuracy - margin_of_error)\n",
    "    upper_bound = min(1, accuracy + margin_of_error)\n",
    "    print(\"95% confidence interval:\",[lower_bound,upper_bound])"
   ]
  },
  {
   "cell_type": "code",
   "execution_count": 10,
   "id": "b74fa027-2021-4415-9277-0daf7771bd4d",
   "metadata": {
    "tags": []
   },
   "outputs": [
    {
     "name": "stdout",
     "output_type": "stream",
     "text": [
      "model name: Decision tree classifier to classify day of purchase\n",
      "Accuracy on test set: 0.16\n",
      "95% confidence interval: [0.10919192655191055, 0.21080807344808944]\n",
      "model name: Random Forest classifier to classify day of purchase\n",
      "Accuracy on test set: 0.15\n",
      "95% confidence interval: [0.10051333514781477, 0.19948666485218522]\n"
     ]
    }
   ],
   "source": [
    "accurate(X5_test,t5_test,y5_pred, model5, \"Decision tree classifier to classify day of purchase\")\n",
    "accurate(X5_test,t5_test,y6_pred, model6, \"Random Forest classifier to classify day of purchase\")"
   ]
  },
  {
   "cell_type": "code",
   "execution_count": null,
   "id": "76bc825b-5782-46ec-bb4b-e2a1f1bb23cf",
   "metadata": {},
   "outputs": [],
   "source": []
  }
 ],
 "metadata": {
  "kernelspec": {
   "display_name": "UFRC Python-3.10",
   "language": "python",
   "name": "python3-3.10-ufrc"
  },
  "language_info": {
   "codemirror_mode": {
    "name": "ipython",
    "version": 3
   },
   "file_extension": ".py",
   "mimetype": "text/x-python",
   "name": "python",
   "nbconvert_exporter": "python",
   "pygments_lexer": "ipython3",
   "version": "3.10.8"
  }
 },
 "nbformat": 4,
 "nbformat_minor": 5
}
